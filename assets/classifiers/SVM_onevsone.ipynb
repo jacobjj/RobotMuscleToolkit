{
 "cells": [
  {
   "cell_type": "code",
   "execution_count": 42,
   "metadata": {},
   "outputs": [],
   "source": [
    "import pandas as pd \n",
    "import numpy as np\n",
    "import pickle\n",
    "\n",
    "# read google spreadsheet data saved as csv\n",
    "df = pd.read_csv(\"original_data.csv\")\n",
    "\n",
    "# define actuator class names\n",
    "classes = [\"PZT\", \"DEA\", \"IPMC\", \"SMA\", \"SCP\", \"SFA\", \"TSA\", \"EAP\"]\n",
    "\n",
    "# delete first column from dataframe\n",
    "df = df.drop('Reference', axis=1)\n",
    "\n",
    "# define new first column as labels for actuator type\n",
    "actuator_type = df['Actuator Type']\n",
    "\n",
    "# extract actuator type and set as label\n",
    "lbl = [] \n",
    "\n",
    "# remove SMP actuator types\n",
    "df = df[df['Actuator Type'] != 'SMP']\n",
    "    "
   ]
  },
  {
   "cell_type": "code",
   "execution_count": 43,
   "metadata": {},
   "outputs": [
    {
     "data": {
      "text/html": [
       "<div>\n",
       "<style scoped>\n",
       "    .dataframe tbody tr th:only-of-type {\n",
       "        vertical-align: middle;\n",
       "    }\n",
       "\n",
       "    .dataframe tbody tr th {\n",
       "        vertical-align: top;\n",
       "    }\n",
       "\n",
       "    .dataframe thead th {\n",
       "        text-align: right;\n",
       "    }\n",
       "</style>\n",
       "<table border=\"1\" class=\"dataframe\">\n",
       "  <thead>\n",
       "    <tr style=\"text-align: right;\">\n",
       "      <th></th>\n",
       "      <th>Actuator Type</th>\n",
       "      <th>Bandwidth (Hz)</th>\n",
       "      <th>Strain (%)</th>\n",
       "      <th>Stress (MPa)</th>\n",
       "      <th>Efficiency (%)</th>\n",
       "      <th>Power Density (W/g)</th>\n",
       "    </tr>\n",
       "  </thead>\n",
       "  <tbody>\n",
       "    <tr>\n",
       "      <th>0</th>\n",
       "      <td>PZT</td>\n",
       "      <td>10000.0</td>\n",
       "      <td>0.200000</td>\n",
       "      <td>110.0000</td>\n",
       "      <td>90.0</td>\n",
       "      <td>0.20</td>\n",
       "    </tr>\n",
       "    <tr>\n",
       "      <th>1</th>\n",
       "      <td>PZT</td>\n",
       "      <td>100.0</td>\n",
       "      <td>NaN</td>\n",
       "      <td>NaN</td>\n",
       "      <td>90.0</td>\n",
       "      <td>NaN</td>\n",
       "    </tr>\n",
       "    <tr>\n",
       "      <th>2</th>\n",
       "      <td>DEA</td>\n",
       "      <td>100.0</td>\n",
       "      <td>200.000000</td>\n",
       "      <td>8.0000</td>\n",
       "      <td>85.0</td>\n",
       "      <td>0.20</td>\n",
       "    </tr>\n",
       "    <tr>\n",
       "      <th>3</th>\n",
       "      <td>IPMC</td>\n",
       "      <td>10.0</td>\n",
       "      <td>40.000000</td>\n",
       "      <td>0.3000</td>\n",
       "      <td>NaN</td>\n",
       "      <td>0.02</td>\n",
       "    </tr>\n",
       "    <tr>\n",
       "      <th>4</th>\n",
       "      <td>SMA</td>\n",
       "      <td>3.0</td>\n",
       "      <td>5.000000</td>\n",
       "      <td>200.0000</td>\n",
       "      <td>1.3</td>\n",
       "      <td>50.00</td>\n",
       "    </tr>\n",
       "    <tr>\n",
       "      <th>...</th>\n",
       "      <td>...</td>\n",
       "      <td>...</td>\n",
       "      <td>...</td>\n",
       "      <td>...</td>\n",
       "      <td>...</td>\n",
       "      <td>...</td>\n",
       "    </tr>\n",
       "    <tr>\n",
       "      <th>673</th>\n",
       "      <td>SMA</td>\n",
       "      <td>NaN</td>\n",
       "      <td>2.245786</td>\n",
       "      <td>502.7902</td>\n",
       "      <td>NaN</td>\n",
       "      <td>NaN</td>\n",
       "    </tr>\n",
       "    <tr>\n",
       "      <th>674</th>\n",
       "      <td>SMA</td>\n",
       "      <td>NaN</td>\n",
       "      <td>2.290964</td>\n",
       "      <td>515.8417</td>\n",
       "      <td>NaN</td>\n",
       "      <td>NaN</td>\n",
       "    </tr>\n",
       "    <tr>\n",
       "      <th>675</th>\n",
       "      <td>SMA</td>\n",
       "      <td>NaN</td>\n",
       "      <td>2.330979</td>\n",
       "      <td>534.8862</td>\n",
       "      <td>NaN</td>\n",
       "      <td>NaN</td>\n",
       "    </tr>\n",
       "    <tr>\n",
       "      <th>676</th>\n",
       "      <td>SMA</td>\n",
       "      <td>NaN</td>\n",
       "      <td>2.327107</td>\n",
       "      <td>525.1642</td>\n",
       "      <td>NaN</td>\n",
       "      <td>NaN</td>\n",
       "    </tr>\n",
       "    <tr>\n",
       "      <th>677</th>\n",
       "      <td>SMA</td>\n",
       "      <td>NaN</td>\n",
       "      <td>2.318071</td>\n",
       "      <td>520.0368</td>\n",
       "      <td>NaN</td>\n",
       "      <td>NaN</td>\n",
       "    </tr>\n",
       "  </tbody>\n",
       "</table>\n",
       "<p>647 rows × 6 columns</p>\n",
       "</div>"
      ],
      "text/plain": [
       "    Actuator Type  Bandwidth (Hz)  Strain (%)  Stress (MPa)  Efficiency (%)  \\\n",
       "0             PZT         10000.0    0.200000      110.0000            90.0   \n",
       "1             PZT           100.0         NaN           NaN            90.0   \n",
       "2             DEA           100.0  200.000000        8.0000            85.0   \n",
       "3            IPMC            10.0   40.000000        0.3000             NaN   \n",
       "4             SMA             3.0    5.000000      200.0000             1.3   \n",
       "..            ...             ...         ...           ...             ...   \n",
       "673           SMA             NaN    2.245786      502.7902             NaN   \n",
       "674           SMA             NaN    2.290964      515.8417             NaN   \n",
       "675           SMA             NaN    2.330979      534.8862             NaN   \n",
       "676           SMA             NaN    2.327107      525.1642             NaN   \n",
       "677           SMA             NaN    2.318071      520.0368             NaN   \n",
       "\n",
       "     Power Density (W/g)  \n",
       "0                   0.20  \n",
       "1                    NaN  \n",
       "2                   0.20  \n",
       "3                   0.02  \n",
       "4                  50.00  \n",
       "..                   ...  \n",
       "673                  NaN  \n",
       "674                  NaN  \n",
       "675                  NaN  \n",
       "676                  NaN  \n",
       "677                  NaN  \n",
       "\n",
       "[647 rows x 6 columns]"
      ]
     },
     "execution_count": 43,
     "metadata": {},
     "output_type": "execute_result"
    }
   ],
   "source": [
    "df"
   ]
  },
  {
   "cell_type": "code",
   "execution_count": 44,
   "metadata": {},
   "outputs": [
    {
     "data": {
      "text/plain": [
       "\"\\ndf = df.drop(['Bandwidth (Hz)', 'Efficiency (%)', 'Power Density (W/g)'], axis=1)\\n\\ndf\\n\""
      ]
     },
     "execution_count": 44,
     "metadata": {},
     "output_type": "execute_result"
    }
   ],
   "source": [
    "'''\n",
    "df = df.drop(['Bandwidth (Hz)', 'Efficiency (%)', 'Power Density (W/g)'], axis=1)\n",
    "\n",
    "df\n",
    "'''"
   ]
  },
  {
   "cell_type": "code",
   "execution_count": 45,
   "metadata": {},
   "outputs": [
    {
     "name": "stdout",
     "output_type": "stream",
     "text": [
      "[0, 1, 2, 3, 3, 5, 5, 5, 6]\n"
     ]
    }
   ],
   "source": [
    "#df = df.dropna()\n",
    "\n",
    "for index, row in df.iterrows():\n",
    "    for i, classification in enumerate(classes):\n",
    "        if row[\"Actuator Type\"] == classification:\n",
    "            lbl.append(i)\n",
    "\n",
    "print(lbl[1:10])\n",
    "\n",
    "# drop first column now that we have labels \n",
    "df = df.drop('Actuator Type', axis=1)"
   ]
  },
  {
   "cell_type": "code",
   "execution_count": 46,
   "metadata": {},
   "outputs": [
    {
     "data": {
      "text/html": [
       "<div>\n",
       "<style scoped>\n",
       "    .dataframe tbody tr th:only-of-type {\n",
       "        vertical-align: middle;\n",
       "    }\n",
       "\n",
       "    .dataframe tbody tr th {\n",
       "        vertical-align: top;\n",
       "    }\n",
       "\n",
       "    .dataframe thead th {\n",
       "        text-align: right;\n",
       "    }\n",
       "</style>\n",
       "<table border=\"1\" class=\"dataframe\">\n",
       "  <thead>\n",
       "    <tr style=\"text-align: right;\">\n",
       "      <th></th>\n",
       "      <th>Bandwidth (Hz)</th>\n",
       "      <th>Strain (%)</th>\n",
       "      <th>Stress (MPa)</th>\n",
       "      <th>Efficiency (%)</th>\n",
       "      <th>Power Density (W/g)</th>\n",
       "    </tr>\n",
       "  </thead>\n",
       "  <tbody>\n",
       "    <tr>\n",
       "      <th>0</th>\n",
       "      <td>10000.0</td>\n",
       "      <td>0.200000</td>\n",
       "      <td>110.0000</td>\n",
       "      <td>90.0</td>\n",
       "      <td>0.20</td>\n",
       "    </tr>\n",
       "    <tr>\n",
       "      <th>1</th>\n",
       "      <td>100.0</td>\n",
       "      <td>NaN</td>\n",
       "      <td>NaN</td>\n",
       "      <td>90.0</td>\n",
       "      <td>NaN</td>\n",
       "    </tr>\n",
       "    <tr>\n",
       "      <th>2</th>\n",
       "      <td>100.0</td>\n",
       "      <td>200.000000</td>\n",
       "      <td>8.0000</td>\n",
       "      <td>85.0</td>\n",
       "      <td>0.20</td>\n",
       "    </tr>\n",
       "    <tr>\n",
       "      <th>3</th>\n",
       "      <td>10.0</td>\n",
       "      <td>40.000000</td>\n",
       "      <td>0.3000</td>\n",
       "      <td>NaN</td>\n",
       "      <td>0.02</td>\n",
       "    </tr>\n",
       "    <tr>\n",
       "      <th>4</th>\n",
       "      <td>3.0</td>\n",
       "      <td>5.000000</td>\n",
       "      <td>200.0000</td>\n",
       "      <td>1.3</td>\n",
       "      <td>50.00</td>\n",
       "    </tr>\n",
       "    <tr>\n",
       "      <th>...</th>\n",
       "      <td>...</td>\n",
       "      <td>...</td>\n",
       "      <td>...</td>\n",
       "      <td>...</td>\n",
       "      <td>...</td>\n",
       "    </tr>\n",
       "    <tr>\n",
       "      <th>673</th>\n",
       "      <td>NaN</td>\n",
       "      <td>2.245786</td>\n",
       "      <td>502.7902</td>\n",
       "      <td>NaN</td>\n",
       "      <td>NaN</td>\n",
       "    </tr>\n",
       "    <tr>\n",
       "      <th>674</th>\n",
       "      <td>NaN</td>\n",
       "      <td>2.290964</td>\n",
       "      <td>515.8417</td>\n",
       "      <td>NaN</td>\n",
       "      <td>NaN</td>\n",
       "    </tr>\n",
       "    <tr>\n",
       "      <th>675</th>\n",
       "      <td>NaN</td>\n",
       "      <td>2.330979</td>\n",
       "      <td>534.8862</td>\n",
       "      <td>NaN</td>\n",
       "      <td>NaN</td>\n",
       "    </tr>\n",
       "    <tr>\n",
       "      <th>676</th>\n",
       "      <td>NaN</td>\n",
       "      <td>2.327107</td>\n",
       "      <td>525.1642</td>\n",
       "      <td>NaN</td>\n",
       "      <td>NaN</td>\n",
       "    </tr>\n",
       "    <tr>\n",
       "      <th>677</th>\n",
       "      <td>NaN</td>\n",
       "      <td>2.318071</td>\n",
       "      <td>520.0368</td>\n",
       "      <td>NaN</td>\n",
       "      <td>NaN</td>\n",
       "    </tr>\n",
       "  </tbody>\n",
       "</table>\n",
       "<p>647 rows × 5 columns</p>\n",
       "</div>"
      ],
      "text/plain": [
       "     Bandwidth (Hz)  Strain (%)  Stress (MPa)  Efficiency (%)  \\\n",
       "0           10000.0    0.200000      110.0000            90.0   \n",
       "1             100.0         NaN           NaN            90.0   \n",
       "2             100.0  200.000000        8.0000            85.0   \n",
       "3              10.0   40.000000        0.3000             NaN   \n",
       "4               3.0    5.000000      200.0000             1.3   \n",
       "..              ...         ...           ...             ...   \n",
       "673             NaN    2.245786      502.7902             NaN   \n",
       "674             NaN    2.290964      515.8417             NaN   \n",
       "675             NaN    2.330979      534.8862             NaN   \n",
       "676             NaN    2.327107      525.1642             NaN   \n",
       "677             NaN    2.318071      520.0368             NaN   \n",
       "\n",
       "     Power Density (W/g)  \n",
       "0                   0.20  \n",
       "1                    NaN  \n",
       "2                   0.20  \n",
       "3                   0.02  \n",
       "4                  50.00  \n",
       "..                   ...  \n",
       "673                  NaN  \n",
       "674                  NaN  \n",
       "675                  NaN  \n",
       "676                  NaN  \n",
       "677                  NaN  \n",
       "\n",
       "[647 rows x 5 columns]"
      ]
     },
     "execution_count": 46,
     "metadata": {},
     "output_type": "execute_result"
    }
   ],
   "source": [
    "df"
   ]
  },
  {
   "cell_type": "code",
   "execution_count": 47,
   "metadata": {},
   "outputs": [],
   "source": [
    "# change dataframe to hold double values and stress/strain\n",
    "#df = df[['Strain (%)','Stress (MPa)']].apply(pd.to_numeric)\n",
    "df = df.apply(pd.to_numeric)\n",
    "\n",
    "# normalize the data\n",
    "#df = df.apply(np.log)"
   ]
  },
  {
   "cell_type": "code",
   "execution_count": 48,
   "metadata": {},
   "outputs": [
    {
     "data": {
      "text/plain": [
       "Bandwidth (Hz)         574\n",
       "Strain (%)              28\n",
       "Stress (MPa)           292\n",
       "Efficiency (%)         547\n",
       "Power Density (W/g)    566\n",
       "dtype: int64"
      ]
     },
     "execution_count": 48,
     "metadata": {},
     "output_type": "execute_result"
    }
   ],
   "source": [
    "#df_imputed = df\n",
    "df.isnull().sum(axis = 0)"
   ]
  },
  {
   "cell_type": "code",
   "execution_count": 49,
   "metadata": {},
   "outputs": [],
   "source": [
    "# %%time \n",
    "\n",
    "# #nuclear norm\n",
    "\n",
    "# from matrix_completion import *\n",
    "\n",
    "# # casts everything to float and numpy matrix\n",
    "# df_numeric = df.to_numpy()\n",
    "\n",
    "# shape = df_numeric.shape\n",
    "\n",
    "\n",
    "# mask = np.ones((shape[0], shape[1]))\n",
    "\n",
    "# # set missing values to 0\n",
    "# mask[np.isnan(df_numeric)] = 0\n",
    "\n",
    "# imputed = nuclear_norm_solve(df_numeric, mask)      \n",
    "    \n",
    "# # transforming numpy array to dataframe and setting columsn and indicies\n",
    "# df_imputed = pd.DataFrame(imputed)\n",
    "# df_imputed.columns = df.columns\n",
    "# df_imputed.index = df.index\n",
    "\n",
    "# #df_imputed = df_imputed.apply(np.log)\n",
    "# df_imputed\n"
   ]
  },
  {
   "cell_type": "code",
   "execution_count": 50,
   "metadata": {},
   "outputs": [
    {
     "data": {
      "text/plain": [
       "\"\\n#mean imputation\\n\\nfrom sklearn.impute import SimpleImputer\\n\\n# casts everything to float and numpy matrix\\ndf_numeric = df.to_numpy()\\n\\nimp_mean = SimpleImputer(missing_values=np.nan, strategy='mean')\\n\\nimp_mean.fit(df_numeric)\\n\\nimputed = imp_mean.transform(df_numeric)\\n\\n# transforming numpy array to dataframe and setting columsn and indicies\\ndf_imputed = pd.DataFrame(imputed)\\ndf_imputed.columns = df.columns\\ndf_imputed.index = df.index\\n\\n#df_imputed = df_imputed.apply(np.log)\\ndf_imputed\\n\""
      ]
     },
     "execution_count": 50,
     "metadata": {},
     "output_type": "execute_result"
    }
   ],
   "source": [
    "'''\n",
    "#mean imputation\n",
    "\n",
    "from sklearn.impute import SimpleImputer\n",
    "\n",
    "# casts everything to float and numpy matrix\n",
    "df_numeric = df.to_numpy()\n",
    "\n",
    "imp_mean = SimpleImputer(missing_values=np.nan, strategy='mean')\n",
    "\n",
    "imp_mean.fit(df_numeric)\n",
    "\n",
    "imputed = imp_mean.transform(df_numeric)\n",
    "\n",
    "# transforming numpy array to dataframe and setting columsn and indicies\n",
    "df_imputed = pd.DataFrame(imputed)\n",
    "df_imputed.columns = df.columns\n",
    "df_imputed.index = df.index\n",
    "\n",
    "#df_imputed = df_imputed.apply(np.log)\n",
    "df_imputed\n",
    "'''"
   ]
  },
  {
   "cell_type": "code",
   "execution_count": 51,
   "metadata": {},
   "outputs": [
    {
     "data": {
      "text/plain": [
       "'\\nfrom sklearn.experimental import enable_iterative_imputer\\nfrom sklearn.impute import IterativeImputer\\n\\n# casts everything to float and numpy matrix\\ndf_numeric = df.to_numpy()\\n\\nimp_mean = IterativeImputer(random_state=0)\\n\\nimp_mean.fit(df_numeric)\\n\\nimputed = imp_mean.transform(df_numeric)\\n\\n# transforming numpy array to dataframe and setting columsn and indicies\\ndf_imputed = pd.DataFrame(imputed)\\ndf_imputed.columns = df.columns\\ndf_imputed.index = df.index\\n\\n#df_imputed = df_imputed.apply(np.log)\\ndf_imputed\\n'"
      ]
     },
     "execution_count": 51,
     "metadata": {},
     "output_type": "execute_result"
    }
   ],
   "source": [
    "'''\n",
    "from sklearn.experimental import enable_iterative_imputer\n",
    "from sklearn.impute import IterativeImputer\n",
    "\n",
    "# casts everything to float and numpy matrix\n",
    "df_numeric = df.to_numpy()\n",
    "\n",
    "imp_mean = IterativeImputer(random_state=0)\n",
    "\n",
    "imp_mean.fit(df_numeric)\n",
    "\n",
    "imputed = imp_mean.transform(df_numeric)\n",
    "\n",
    "# transforming numpy array to dataframe and setting columsn and indicies\n",
    "df_imputed = pd.DataFrame(imputed)\n",
    "df_imputed.columns = df.columns\n",
    "df_imputed.index = df.index\n",
    "\n",
    "#df_imputed = df_imputed.apply(np.log)\n",
    "df_imputed\n",
    "'''"
   ]
  },
  {
   "cell_type": "code",
   "execution_count": 52,
   "metadata": {},
   "outputs": [
    {
     "name": "stdout",
     "output_type": "stream",
     "text": [
      "CPU times: user 62.9 ms, sys: 7.76 ms, total: 70.6 ms\n",
      "Wall time: 24.5 ms\n"
     ]
    }
   ],
   "source": [
    "%%time\n",
    "\n",
    "from sklearn.impute import KNNImputer\n",
    "\n",
    "# casts everything to float and numpy matrix\n",
    "df_numeric = df.to_numpy()\n",
    "\n",
    "imputer = KNNImputer(n_neighbors=2)\n",
    "imputed = imputer.fit_transform(df_numeric)\n",
    "\n",
    "# transforming numpy array to dataframe and setting columsn and indicies\n",
    "df_imputed = pd.DataFrame(imputed)\n",
    "df_imputed.columns = df.columns\n",
    "df_imputed.index = df.index\n",
    "\n",
    "#df_imputed = df_imputed.apply(np.log)\n",
    "df_imputed\n",
    "\n",
    "filename = 'KNNimputer.pkl'\n",
    "pickle.dump(imputer, open(filename, 'wb'))"
   ]
  },
  {
   "cell_type": "code",
   "execution_count": 53,
   "metadata": {},
   "outputs": [],
   "source": [
    "# X = [[5, 5, np.nan, np.nan, np.nan]]\n",
    "\n",
    "# print(imputer.transform(X))"
   ]
  },
  {
   "cell_type": "code",
   "execution_count": 54,
   "metadata": {},
   "outputs": [],
   "source": [
    "# remove non-numeric values in stress/strain columns\n",
    "df_imputed['Strain (%)'] = pd.to_numeric(df_imputed['Strain (%)'], errors='coerce')\n",
    "df_imputed['Stress (MPa)'] = pd.to_numeric(df_imputed['Stress (MPa)'], errors='coerce')\n",
    "df_imputed['Bandwidth (Hz)'] = pd.to_numeric(df_imputed['Bandwidth (Hz)'], errors='coerce')\n",
    "df_imputed['Efficiency (%)'] = pd.to_numeric(df_imputed['Efficiency (%)'], errors='coerce')\n",
    "df_imputed['Power Density (W/g)'] = pd.to_numeric(df_imputed['Power Density (W/g)'], errors='coerce')\n",
    "\n",
    "# dataframe of stress and strain properties\n",
    "#df_imputed = df_imputed.dropna()\n",
    "\n",
    "# change df to numpy array\n",
    "df_np = df_imputed.to_numpy()"
   ]
  },
  {
   "cell_type": "code",
   "execution_count": 55,
   "metadata": {},
   "outputs": [],
   "source": [
    "import sklearn\n",
    "from sklearn.svm import SVC\n",
    "from sklearn.preprocessing import StandardScaler\n",
    "\n",
    "scaler = StandardScaler()\n",
    "# scales data by removing mean and scaling to the variance\n",
    "scaler.fit(df_np)\n",
    "\n",
    "# applies scaler to dataset \n",
    "x = scaler.transform(df_np)\n",
    "\n",
    "# casts list of labels as numpy array\n",
    "y = np.array(lbl)\n",
    "\n",
    "# set up classifier\n",
    "clf = SVC(kernel = 'rbf', C=1000)\n"
   ]
  },
  {
   "cell_type": "code",
   "execution_count": 56,
   "metadata": {},
   "outputs": [
    {
     "data": {
      "text/plain": [
       "SVC(C=1000, break_ties=False, cache_size=200, class_weight=None, coef0=0.0,\n",
       "    decision_function_shape='ovr', degree=3, gamma='scale', kernel='rbf',\n",
       "    max_iter=-1, probability=False, random_state=None, shrinking=True,\n",
       "    tol=0.001, verbose=False)"
      ]
     },
     "execution_count": 56,
     "metadata": {},
     "output_type": "execute_result"
    }
   ],
   "source": [
    "# trains SVM\n",
    "clf.fit(x, y)"
   ]
  },
  {
   "cell_type": "code",
   "execution_count": 57,
   "metadata": {},
   "outputs": [
    {
     "data": {
      "text/plain": [
       "0.8176197836166924"
      ]
     },
     "execution_count": 57,
     "metadata": {},
     "output_type": "execute_result"
    }
   ],
   "source": [
    "\n",
    "y_predict = clf.predict(x)\n",
    "\n",
    "sklearn.metrics.accuracy_score(y_predict, y)"
   ]
  },
  {
   "cell_type": "code",
   "execution_count": 58,
   "metadata": {},
   "outputs": [],
   "source": [
    "# create a copy of df_imputed for plotting\n",
    "df_plt = df_imputed\n",
    "\n",
    "\n",
    "actuator_type = []\n",
    "\n",
    "# iterate through labels and find corresponding actuator type\n",
    "for i, act_type in enumerate(lbl):\n",
    "    for j, classif in enumerate(classes):\n",
    "        if act_type == j: \n",
    "            actuator_type.append(classes[j])\n",
    "\n",
    "# add a column to df_plt for actuator type \n",
    "df_plt['Actuator Type'] = actuator_type\n"
   ]
  },
  {
   "cell_type": "code",
   "execution_count": 59,
   "metadata": {},
   "outputs": [],
   "source": [
    "#x_lin = np.linspace(min(df_imputed['Strain (%)']), max(df_imputed['Strain (%)']), np.floor(max(df_imputed['Strain (%)'])).astype(np.int))\n",
    "#y_lin = np.linspace(min(df_imputed['Stress (MPa)']), max(df_imputed['Stress (MPa)']),np.floor(max(df_imputed['Stress (MPa)'])).astype(np.int))\n",
    "#X, Y = np.meshgrid(x_lin,y_lin)"
   ]
  },
  {
   "cell_type": "code",
   "execution_count": 60,
   "metadata": {},
   "outputs": [],
   "source": [
    "# from plot multi-class SGD example...\n",
    "\n",
    "h = .02  # step size in the mesh\n",
    "\n",
    "# create a mesh to plot in\n",
    "x_min, x_max = x[:, 0].min() - 1, x[:, 0].max() + 1\n",
    "y_min, y_max = x[:, 1].min() - 1, x[:, 1].max() + 1\n",
    "xx, yy = np.meshgrid(np.arange(x_min, x_max, h),\n",
    "                     np.arange(y_min, y_max, h))"
   ]
  },
  {
   "cell_type": "code",
   "execution_count": 61,
   "metadata": {},
   "outputs": [
    {
     "data": {
      "text/plain": [
       "'\\nimport matplotlib.pyplot as plt\\nfrom matplotlib.pyplot import figure\\nimport matplotlib.cm as cm\\n# set figure size to be bigger\\nfigure(figsize=(12, 8), dpi=80)\\n\\n\\n# Plot the decision boundary. For that, we will assign a color to each\\n# point in the mesh [x_min, x_max]x[y_min, y_max].\\nZ = clf.predict(np.c_[xx.ravel(), yy.ravel()])\\n# Put the result into a color plot\\nZ = Z.reshape(xx.shape)\\ncs = plt.contourf(xx, yy, Z, cmap=plt.cm.Spectral)\\nplt.axis(\\'tight\\')\\n\\n# set color palette for classes\\n# colors = \"rybcwm\"\\nys = [i+x+(i*x)**2 for i in range(10)]\\ncolors = cm.Spectral(np.linspace(0, 1, len(ys)))\\n\\n# Plot also the training points\\n\\nfor i, color in zip(clf.classes_, colors):\\n    idx = np.where(y == i)\\n    plt.scatter(x[idx, 0], x[idx, 1], c=color, label=df_plt[\\'Actuator Type\\'],\\n                cmap=plt.cm.Spectral, edgecolor=\\'black\\', s=20)\\nplt.title(\"Actuator Properties\")\\nplt.axis(\\'tight\\')\\n'"
      ]
     },
     "execution_count": 61,
     "metadata": {},
     "output_type": "execute_result"
    }
   ],
   "source": [
    "'''\n",
    "import matplotlib.pyplot as plt\n",
    "from matplotlib.pyplot import figure\n",
    "import matplotlib.cm as cm\n",
    "# set figure size to be bigger\n",
    "figure(figsize=(12, 8), dpi=80)\n",
    "\n",
    "\n",
    "# Plot the decision boundary. For that, we will assign a color to each\n",
    "# point in the mesh [x_min, x_max]x[y_min, y_max].\n",
    "Z = clf.predict(np.c_[xx.ravel(), yy.ravel()])\n",
    "# Put the result into a color plot\n",
    "Z = Z.reshape(xx.shape)\n",
    "cs = plt.contourf(xx, yy, Z, cmap=plt.cm.Spectral)\n",
    "plt.axis('tight')\n",
    "\n",
    "# set color palette for classes\n",
    "# colors = \"rybcwm\"\n",
    "ys = [i+x+(i*x)**2 for i in range(10)]\n",
    "colors = cm.Spectral(np.linspace(0, 1, len(ys)))\n",
    "\n",
    "# Plot also the training points\n",
    "\n",
    "for i, color in zip(clf.classes_, colors):\n",
    "    idx = np.where(y == i)\n",
    "    plt.scatter(x[idx, 0], x[idx, 1], c=color, label=df_plt['Actuator Type'],\n",
    "                cmap=plt.cm.Spectral, edgecolor='black', s=20)\n",
    "plt.title(\"Actuator Properties\")\n",
    "plt.axis('tight')\n",
    "'''"
   ]
  },
  {
   "cell_type": "code",
   "execution_count": 62,
   "metadata": {},
   "outputs": [
    {
     "data": {
      "text/plain": [
       "array([0, 1, 2, 3, 4, 5, 6, 7])"
      ]
     },
     "execution_count": 62,
     "metadata": {},
     "output_type": "execute_result"
    }
   ],
   "source": [
    "# some classes barely show up so only 5 classes are predicted??\n",
    "np.unique(y_predict)"
   ]
  },
  {
   "cell_type": "code",
   "execution_count": 63,
   "metadata": {},
   "outputs": [],
   "source": [
    "from sklearn.model_selection import train_test_split \n",
    "\n",
    "# split data into train and test set\n",
    "x_train, x_test, y_train, y_test = train_test_split(x, y, test_size = .2)"
   ]
  },
  {
   "cell_type": "code",
   "execution_count": 64,
   "metadata": {},
   "outputs": [
    {
     "data": {
      "text/plain": [
       "SVC(C=1000, break_ties=False, cache_size=200, class_weight=None, coef0=0.0,\n",
       "    decision_function_shape='ovr', degree=3, gamma='scale', kernel='rbf',\n",
       "    max_iter=-1, probability=True, random_state=None, shrinking=True, tol=0.001,\n",
       "    verbose=False)"
      ]
     },
     "execution_count": 64,
     "metadata": {},
     "output_type": "execute_result"
    }
   ],
   "source": [
    "# set up classifier\n",
    "clf = SVC(kernel = 'rbf', C=1000, probability=True)\n",
    "\n",
    "# train training data set \n",
    "clf.fit(x_train, y_train)"
   ]
  },
  {
   "cell_type": "code",
   "execution_count": 65,
   "metadata": {},
   "outputs": [
    {
     "data": {
      "text/plain": [
       "0.7307692307692307"
      ]
     },
     "execution_count": 65,
     "metadata": {},
     "output_type": "execute_result"
    }
   ],
   "source": [
    "y_test_predict = clf.predict(x_test)\n",
    "y_test_prob = clf.predict_proba(x_test)\n",
    "y_train_predict = clf.predict(x_train)\n",
    "y_train_prob = clf.predict_proba(x_train)\n",
    "\n",
    "sklearn.metrics.accuracy_score(y_test_predict, y_test)"
   ]
  },
  {
   "cell_type": "code",
   "execution_count": 66,
   "metadata": {},
   "outputs": [
    {
     "data": {
      "text/plain": [
       "0.8123791102514507"
      ]
     },
     "execution_count": 66,
     "metadata": {},
     "output_type": "execute_result"
    }
   ],
   "source": [
    "sklearn.metrics.accuracy_score(y_train_predict, y_train)"
   ]
  },
  {
   "cell_type": "code",
   "execution_count": 67,
   "metadata": {},
   "outputs": [
    {
     "name": "stdout",
     "output_type": "stream",
     "text": [
      "              precision    recall  f1-score   support\n",
      "\n",
      "           0       0.67      0.57      0.62         7\n",
      "           1       0.80      0.44      0.57         9\n",
      "           2       1.00      0.33      0.50         3\n",
      "           3       0.86      0.84      0.85        79\n",
      "           4       0.58      0.95      0.72        20\n",
      "           5       0.25      0.20      0.22         5\n",
      "           6       0.00      0.00      0.00         0\n",
      "           7       0.00      0.00      0.00         7\n",
      "\n",
      "    accuracy                           0.73       130\n",
      "   macro avg       0.52      0.42      0.43       130\n",
      "weighted avg       0.73      0.73      0.72       130\n",
      "\n"
     ]
    },
    {
     "name": "stderr",
     "output_type": "stream",
     "text": [
      "/Users/angelaliu/opt/anaconda3/lib/python3.7/site-packages/sklearn/metrics/_classification.py:1272: UndefinedMetricWarning: Recall and F-score are ill-defined and being set to 0.0 in labels with no true samples. Use `zero_division` parameter to control this behavior.\n",
      "  _warn_prf(average, modifier, msg_start, len(result))\n"
     ]
    }
   ],
   "source": [
    "from sklearn.metrics import classification_report\n",
    "\n",
    "print(classification_report(y_test, y_test_predict))"
   ]
  },
  {
   "cell_type": "code",
   "execution_count": 68,
   "metadata": {},
   "outputs": [],
   "source": [
    "#both preds and truths are same shape m by n (m is number of predictions and n is number of classes)\n",
    "def top_n_accuracy(preds, truths, n):\n",
    "    best_n = np.argsort(preds, axis=1)[:,-n:]\n",
    "    ts = truths\n",
    "    successes = 0\n",
    "    for i in range(ts.shape[0]):\n",
    "      if ts[i] in best_n[i,:]:\n",
    "        successes += 1\n",
    "    return float(successes)/ts.shape[0]"
   ]
  },
  {
   "cell_type": "code",
   "execution_count": 69,
   "metadata": {},
   "outputs": [
    {
     "data": {
      "text/plain": [
       "0.9153846153846154"
      ]
     },
     "execution_count": 69,
     "metadata": {},
     "output_type": "execute_result"
    }
   ],
   "source": [
    "top_n_accuracy(y_test_prob, y_test, 3)"
   ]
  },
  {
   "cell_type": "code",
   "execution_count": 70,
   "metadata": {},
   "outputs": [
    {
     "data": {
      "text/plain": [
       "0.9206963249516441"
      ]
     },
     "execution_count": 70,
     "metadata": {},
     "output_type": "execute_result"
    }
   ],
   "source": [
    "top_n_accuracy(y_train_prob, y_train, 3)"
   ]
  },
  {
   "cell_type": "code",
   "execution_count": 71,
   "metadata": {},
   "outputs": [],
   "source": [
    "filename = 'KNNmodel.pkl'\n",
    "pickle.dump(clf, open(filename, 'wb'))"
   ]
  }
 ],
 "metadata": {
  "kernelspec": {
   "display_name": "Python 3",
   "language": "python",
   "name": "python3"
  },
  "language_info": {
   "codemirror_mode": {
    "name": "ipython",
    "version": 3
   },
   "file_extension": ".py",
   "mimetype": "text/x-python",
   "name": "python",
   "nbconvert_exporter": "python",
   "pygments_lexer": "ipython3",
   "version": "3.7.6"
  }
 },
 "nbformat": 4,
 "nbformat_minor": 2
}
